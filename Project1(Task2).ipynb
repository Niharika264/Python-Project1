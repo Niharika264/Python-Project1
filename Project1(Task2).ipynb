{
 "cells": [
  {
   "cell_type": "code",
   "execution_count": null,
   "id": "bd0d39de-98f7-4f76-be45-d2fc6e3e8180",
   "metadata": {},
   "outputs": [
    {
     "name": "stderr",
     "output_type": "stream",
     "text": [
      " * Running on http://localhost:9000/ (Press CTRL+C to quit)\n",
      "127.0.0.1 - - [19/Nov/2021 22:21:02] \"GET / HTTP/1.1\" 404 -\n",
      "127.0.0.1 - - [19/Nov/2021 22:21:13] \"GET /Patient/Sharon HTTP/1.1\" 200 -\n"
     ]
    }
   ],
   "source": [
    "from werkzeug.wrappers import Request,Response\n",
    "from flask import Flask,request,jsonify\n",
    "from Patient import Patientdb as pdb\n",
    "#creating a flask app to host an api in the environment provided by wrappers\n",
    "app = Flask(__name__)\n",
    "\n",
    "#converting app into api\n",
    "@app.route(\"/Patient/<string:name>\",methods=['GET'])\n",
    "\n",
    "#api to display Patient details\n",
    "def patient(name):\n",
    "    if(request.method=='GET'):\n",
    "        return pdb(name)\n",
    "\n",
    "if __name__=='__main__':\n",
    "    \n",
    "    from werkzeug.serving import run_simple\n",
    "    run_simple('localhost',9000,app)\n"
   ]
  },
  {
   "cell_type": "code",
   "execution_count": null,
   "id": "c325eace-c21e-46a2-92c9-63c80775c868",
   "metadata": {},
   "outputs": [],
   "source": []
  },
  {
   "cell_type": "code",
   "execution_count": null,
   "id": "c484e269-9992-4596-a884-2c4835f121ae",
   "metadata": {},
   "outputs": [],
   "source": []
  }
 ],
 "metadata": {
  "kernelspec": {
   "display_name": "Python 3 (ipykernel)",
   "language": "python",
   "name": "python3"
  },
  "language_info": {
   "codemirror_mode": {
    "name": "ipython",
    "version": 3
   },
   "file_extension": ".py",
   "mimetype": "text/x-python",
   "name": "python",
   "nbconvert_exporter": "python",
   "pygments_lexer": "ipython3",
   "version": "3.9.7"
  }
 },
 "nbformat": 4,
 "nbformat_minor": 5
}
