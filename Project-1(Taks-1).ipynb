{
 "cells": [
  {
   "cell_type": "markdown",
   "id": "41633101-86db-4ea1-84cf-40fe940295cc",
   "metadata": {},
   "source": [
    "Task 1:-\n",
    "\n",
    "Create a file with person details and send it to your mail using python. "
   ]
  },
  {
   "cell_type": "code",
   "execution_count": 39,
   "id": "744fc770-2d92-40e4-ae87-19083dbb5b1c",
   "metadata": {},
   "outputs": [],
   "source": [
    "import requests as rq"
   ]
  },
  {
   "cell_type": "code",
   "execution_count": 8,
   "id": "1224eb7f-0e9c-4ce3-9ef2-e849d673ffac",
   "metadata": {},
   "outputs": [],
   "source": [
    "file = open(\"PersonDetails.txt\",\"r\")"
   ]
  },
  {
   "cell_type": "code",
   "execution_count": 9,
   "id": "62045fc6-ad4e-45d5-961a-f6d274d2d498",
   "metadata": {},
   "outputs": [
    {
     "name": "stdout",
     "output_type": "stream",
     "text": [
      "My Details are:-\n",
      "\n",
      "Name = Akhila\n",
      "\n",
      "Age = 20\n",
      "\n",
      "Address = Mysuru,Karnataka\n",
      "\n",
      "Education = B.E in Information Science and Engineering\n",
      "\n",
      "Mother's Name = Sunitha\n",
      "\n",
      "Father's Name = Muralidhara.K.P\n"
     ]
    }
   ],
   "source": [
    "for info in file:\n",
    "    print(info)"
   ]
  },
  {
   "cell_type": "code",
   "execution_count": 42,
   "id": "b89dd343-9f71-4dd3-b8e0-284a6cbabfe9",
   "metadata": {},
   "outputs": [],
   "source": [
    "url = \"https://niharikamurulidhara@gmail.com/\""
   ]
  },
  {
   "cell_type": "code",
   "execution_count": 43,
   "id": "609d033f-52f1-4043-9184-5adc5aedcea3",
   "metadata": {},
   "outputs": [],
   "source": [
    "# inorder to upload a file to server we shld open it in \"r\" mode and it shld be encoded into binary format\n",
    "info = {\"file\":open(\"PersonDetails.txt\",\"rb\")}"
   ]
  },
  {
   "cell_type": "code",
   "execution_count": 45,
   "id": "3d2c5c42-3fcb-4bc5-956d-f1c1b6ac8900",
   "metadata": {},
   "outputs": [],
   "source": [
    "# uploading or posting a text file to http server\n",
    "response = rq.post(url,files=info)"
   ]
  },
  {
   "cell_type": "code",
   "execution_count": 46,
   "id": "c4e4de6c-0994-4980-b3a0-6e62d13c138a",
   "metadata": {},
   "outputs": [
    {
     "name": "stdout",
     "output_type": "stream",
     "text": [
      "200\n"
     ]
    }
   ],
   "source": [
    "print(response.status_code)"
   ]
  },
  {
   "cell_type": "code",
   "execution_count": 47,
   "id": "43284781-8894-4788-9337-a42d70894b11",
   "metadata": {},
   "outputs": [
    {
     "name": "stdout",
     "output_type": "stream",
     "text": [
      "<!DOCTYPE html>\n",
      "<html lang=\"en\">\n",
      "  <head>\n",
      "  <meta charset=\"utf-8\">\n",
      "  <meta content=\"width=300, init\n"
     ]
    }
   ],
   "source": [
    "print(response.text[1:100])"
   ]
  },
  {
   "cell_type": "code",
   "execution_count": null,
   "id": "2cc424de-dffb-4ea6-ac64-f0b9fd9e698c",
   "metadata": {},
   "outputs": [],
   "source": []
  }
 ],
 "metadata": {
  "kernelspec": {
   "display_name": "Python 3 (ipykernel)",
   "language": "python",
   "name": "python3"
  },
  "language_info": {
   "codemirror_mode": {
    "name": "ipython",
    "version": 3
   },
   "file_extension": ".py",
   "mimetype": "text/x-python",
   "name": "python",
   "nbconvert_exporter": "python",
   "pygments_lexer": "ipython3",
   "version": "3.9.7"
  }
 },
 "nbformat": 4,
 "nbformat_minor": 5
}
